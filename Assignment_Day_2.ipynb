{
  "nbformat": 4,
  "nbformat_minor": 0,
  "metadata": {
    "colab": {
      "name": "Assignment_Day_2.ipynb",
      "provenance": [],
      "authorship_tag": "ABX9TyNwv+Iqus4xbJTyWLp7j6rc",
      "include_colab_link": true
    },
    "kernelspec": {
      "name": "python3",
      "display_name": "Python 3"
    }
  },
  "cells": [
    {
      "cell_type": "markdown",
      "metadata": {
        "id": "view-in-github",
        "colab_type": "text"
      },
      "source": [
        "<a href=\"https://colab.research.google.com/github/avijit-avk/Assignments-LetsUpgrade-Data-Science/blob/main/Assignment_Day_2.ipynb\" target=\"_parent\"><img src=\"https://colab.research.google.com/assets/colab-badge.svg\" alt=\"Open In Colab\"/></a>"
      ]
    },
    {
      "cell_type": "markdown",
      "metadata": {
        "id": "s3wxZCNYOtYq"
      },
      "source": [
        "**Question 1**"
      ]
    },
    {
      "cell_type": "code",
      "metadata": {
        "id": "P0u1RSRnGcFN",
        "outputId": "e25ca16c-42f7-4a6b-e8c9-cfaf45f652d8",
        "colab": {
          "base_uri": "https://localhost:8080/"
        }
      },
      "source": [
        "#question_1\n",
        "\n",
        "empty_list=[]\n",
        "for i in range(0,10):\n",
        "  list_input=int(input())\n",
        "  if list_input%2==0:\n",
        "    empty_list.append(list_input)\n",
        "print(empty_list)"
      ],
      "execution_count": 3,
      "outputs": [
        {
          "output_type": "stream",
          "text": [
            "4\n",
            "3\n",
            "5\n",
            "6\n",
            "7\n",
            "8\n",
            "2\n",
            "13\n",
            "31\n",
            "46\n",
            "[4, 6, 8, 2, 46]\n"
          ],
          "name": "stdout"
        }
      ]
    },
    {
      "cell_type": "markdown",
      "metadata": {
        "id": "BTPcnY8aKncX"
      },
      "source": [
        "**Question 2**\n",
        "\n",
        "List Comprehension:\n",
        "    It is a technique that uses a \"for\" loop and a condition to create a new    list from an existing one. A list comprehension statement is always enclosed in a square brackets []. The comprehension consists of three main parts:\n",
        "    \n",
        "    [<expression>    <for loop>   <if condition>]\n",
        "\n",
        "e.g\n",
        "```\n",
        "nums=[10,20,30,40]\n",
        "nums_double=[n*2 for n in nums]\n",
        "print(nums)\n",
        "print(nums_double)\n",
        "```\n",
        "output:\n",
        "\n",
        "```\n",
        "[10,20,30,40]\n",
        "[20,40,60,80]\n",
        "```\n",
        "List comprehension can also be performed on more than one list.\n",
        "\n",
        "\n",
        "\n",
        "\n"
      ]
    },
    {
      "cell_type": "markdown",
      "metadata": {
        "id": "omHA_U7sO3o6"
      },
      "source": [
        "**Question 3**"
      ]
    },
    {
      "cell_type": "code",
      "metadata": {
        "id": "HLMIaKpxOoOK",
        "outputId": "8ab73e16-4d3c-4b49-e9a9-0f84b7d28240",
        "colab": {
          "base_uri": "https://localhost:8080/"
        }
      },
      "source": [
        "empty_dict={}\n",
        "pairs=int(input())\n",
        "for i in range(1,pairs+1):\n",
        "  empty_dict[i]=i*i\n",
        "print(empty_dict)"
      ],
      "execution_count": 4,
      "outputs": [
        {
          "output_type": "stream",
          "text": [
            "4\n",
            "{1: 1, 2: 4, 3: 9, 4: 16}\n"
          ],
          "name": "stdout"
        }
      ]
    },
    {
      "cell_type": "markdown",
      "metadata": {
        "id": "80tNq39Ef64F"
      },
      "source": [
        "**Question 4**"
      ]
    },
    {
      "cell_type": "code",
      "metadata": {
        "id": "m_9DHtLDWnNB"
      },
      "source": [
        ""
      ],
      "execution_count": null,
      "outputs": []
    }
  ]
}