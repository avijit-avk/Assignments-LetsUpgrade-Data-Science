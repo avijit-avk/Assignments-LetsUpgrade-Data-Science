{
  "nbformat": 4,
  "nbformat_minor": 0,
  "metadata": {
    "colab": {
      "name": "Assignment_Day_1.ipynb",
      "provenance": [],
      "authorship_tag": "ABX9TyOXzTAARVw2FbmlVcB6R1oX",
      "include_colab_link": true
    },
    "kernelspec": {
      "name": "python3",
      "display_name": "Python 3"
    }
  },
  "cells": [
    {
      "cell_type": "markdown",
      "metadata": {
        "id": "view-in-github",
        "colab_type": "text"
      },
      "source": [
        "<a href=\"https://colab.research.google.com/github/avijit-avk/Assignments-LetsUpgrade-Data-Science/blob/main/Assignment_Day_1.ipynb\" target=\"_parent\"><img src=\"https://colab.research.google.com/assets/colab-badge.svg\" alt=\"Open In Colab\"/></a>"
      ]
    },
    {
      "cell_type": "code",
      "metadata": {
        "id": "WUK-hmukPzLH"
      },
      "source": [
        "#question 1: A"
      ],
      "execution_count": 3,
      "outputs": []
    },
    {
      "cell_type": "code",
      "metadata": {
        "id": "lCKyyQsyP-vp",
        "outputId": "2dd80f1b-6a84-4e80-f99e-0995f5341194",
        "colab": {
          "base_uri": "https://localhost:8080/"
        }
      },
      "source": [
        "#question 2\n",
        "\n",
        "print(\"LETS UPGRADE\")"
      ],
      "execution_count": 1,
      "outputs": [
        {
          "output_type": "stream",
          "text": [
            "LETS UPGRADE\n"
          ],
          "name": "stdout"
        }
      ]
    },
    {
      "cell_type": "code",
      "metadata": {
        "id": "2Fpfb4JAQXo2",
        "outputId": "8c3f5f3e-3515-4fc1-e809-1f96b9fd4077",
        "colab": {
          "base_uri": "https://localhost:8080/"
        }
      },
      "source": [
        "#question 3\n",
        "\n",
        "cost_price=int(input())\n",
        "selling_price=int(input())\n",
        "if (cost_price-selling_price)==0:\n",
        "  print(\"Neither\")\n",
        "elif (cost_price-selling_price)>0:\n",
        "  print(\"Loss\")\n",
        "else:\n",
        "  print(\"Profit\")  "
      ],
      "execution_count": 2,
      "outputs": [
        {
          "output_type": "stream",
          "text": [
            "20\n",
            "30\n",
            "Profit\n"
          ],
          "name": "stdout"
        }
      ]
    },
    {
      "cell_type": "code",
      "metadata": {
        "id": "8f3jTXZ8SRap",
        "outputId": "ff3d14c0-b76f-4d31-8e27-f156593625ac",
        "colab": {
          "base_uri": "https://localhost:8080/"
        }
      },
      "source": [
        "#question 4\n",
        "\n",
        "amount_in_rs=int(input())\n",
        "print(amount_in_rs*80) #converting Rs. to Euros"
      ],
      "execution_count": 5,
      "outputs": [
        {
          "output_type": "stream",
          "text": [
            "20\n",
            "1600\n"
          ],
          "name": "stdout"
        }
      ]
    },
    {
      "cell_type": "code",
      "metadata": {
        "id": "M_BLVToDTIzt"
      },
      "source": [
        ""
      ],
      "execution_count": null,
      "outputs": []
    }
  ]
}