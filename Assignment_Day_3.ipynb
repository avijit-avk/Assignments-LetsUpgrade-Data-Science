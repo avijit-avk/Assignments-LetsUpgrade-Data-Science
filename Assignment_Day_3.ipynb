{
  "nbformat": 4,
  "nbformat_minor": 0,
  "metadata": {
    "colab": {
      "name": "Assignment_Day_3.ipynb",
      "provenance": [],
      "authorship_tag": "ABX9TyNPkgUj3wz1Bi/LmfLy8jps",
      "include_colab_link": true
    },
    "kernelspec": {
      "name": "python3",
      "display_name": "Python 3"
    }
  },
  "cells": [
    {
      "cell_type": "markdown",
      "metadata": {
        "id": "view-in-github",
        "colab_type": "text"
      },
      "source": [
        "<a href=\"https://colab.research.google.com/github/avijit-avk/Assignments-LetsUpgrade-Data-Science/blob/main/Assignment_Day_3.ipynb\" target=\"_parent\"><img src=\"https://colab.research.google.com/assets/colab-badge.svg\" alt=\"Open In Colab\"/></a>"
      ]
    },
    {
      "cell_type": "markdown",
      "metadata": {
        "id": "IfIbq6euMXSn"
      },
      "source": [
        "**Question 1**"
      ]
    },
    {
      "cell_type": "code",
      "metadata": {
        "id": "PZ1rkB67MJ4x",
        "outputId": "1c278247-ac59-4a05-a189-64b678b24efb",
        "colab": {
          "base_uri": "https://localhost:8080/"
        }
      },
      "source": [
        "import numpy as np\n",
        "\n",
        "print (np.arange(2,50,3))"
      ],
      "execution_count": 2,
      "outputs": [
        {
          "output_type": "stream",
          "text": [
            "[ 2  5  8 11 14 17 20 23 26 29 32 35 38 41 44 47]\n"
          ],
          "name": "stdout"
        }
      ]
    },
    {
      "cell_type": "markdown",
      "metadata": {
        "id": "IEEFeinpMyp6"
      },
      "source": [
        "**Question 2**"
      ]
    },
    {
      "cell_type": "code",
      "metadata": {
        "id": "kpaKVxCJMojC",
        "outputId": "e666d9c9-b954-43de-9a57-eba0a7552705",
        "colab": {
          "base_uri": "https://localhost:8080/"
        }
      },
      "source": [
        "import numpy\n",
        "First_list = int(input(\"Enter the size of list \"))\n",
        "print(\"\\n\")\n",
        "numList_1 = list(int(num) for num in input(\"Enter the list numbers separated by space \").strip().split())[:First_list]\n",
        "print(\"First List: \", numList_1)\n",
        "print(\"\\n\")\n",
        "Second_list = int(input(\"Enter the size of list \"))\n",
        "print(\"\\n\")\n",
        "numList_2 = list(int(num) for num in input(\"Enter the list numbers separated by space \").strip().split())[:Second_list]\n",
        "print(\"Second List: \", numList_2)\n",
        "print(\"\\n\")\n",
        "Array_1 = numpy.array(numList_1)\n",
        "Array_2 = numpy.array(numList_2)\n",
        "\n",
        "print(\"Array1 as Numpy_Array \",Array_1)\n",
        "print(\"Array2 as Numpy_Array \",Array_2)\n",
        "print(\"\\n\")\n",
        "\n",
        "Concatenated_array = numpy.concatenate((Array_1, Array_2), axis=0)\n",
        "print(\"Concatenated array \", Concatenated_array)\n",
        "print(\"\\n\")\n",
        "Concatenated_array.sort()\n",
        "print(\"Sorted Array \", Concatenated_array)"
      ],
      "execution_count": 4,
      "outputs": [
        {
          "output_type": "stream",
          "text": [
            "Enter the size of list 5\n",
            "\n",
            "\n",
            "Enter the list numbers separated by space 1 2 3 4 5\n",
            "First List:  [1, 2, 3, 4, 5]\n",
            "\n",
            "\n",
            "Enter the size of list 7\n",
            "\n",
            "\n",
            "Enter the list numbers separated by space 12 23 43\n",
            "Second List:  [12, 23, 43]\n",
            "\n",
            "\n",
            "Array1 as Numpy_Array  [1 2 3 4 5]\n",
            "Array2 as Numpy_Array  [12 23 43]\n",
            "\n",
            "\n",
            "Concatenated array  [ 1  2  3  4  5 12 23 43]\n",
            "\n",
            "\n",
            "Sorted Array  [ 1  2  3  4  5 12 23 43]\n"
          ],
          "name": "stdout"
        }
      ]
    },
    {
      "cell_type": "markdown",
      "metadata": {
        "id": "_kWpSe-GNZHr"
      },
      "source": [
        "**Question 3**"
      ]
    },
    {
      "cell_type": "code",
      "metadata": {
        "id": "z3ZMdpdANAUL",
        "outputId": "a61f8bcb-e539-4e5b-fce0-b4db72f9c295",
        "colab": {
          "base_uri": "https://localhost:8080/"
        }
      },
      "source": [
        "arr_2d = np.array([[1 ,2,3,1], [19, 20, 21, 22], [30,31,32,33]])\n",
        "print('2D Numpy Array')\n",
        "print(arr_2d)\n",
        "print(\"\\n\")\n",
        "\n",
        "# get number of rows in 2D numpy array\n",
        "num_of_rows = np.size(arr_2d, 0)\n",
        "\n",
        "# get number of columns in 2D numpy array\n",
        "num_of_columns = np.size(arr_2d, 1)\n",
        "print('Number of Rows : ', num_of_rows)\n",
        "print('Number of Columns : ', num_of_columns)"
      ],
      "execution_count": 5,
      "outputs": [
        {
          "output_type": "stream",
          "text": [
            "2D Numpy Array\n",
            "[[ 1  2  3  1]\n",
            " [19 20 21 22]\n",
            " [30 31 32 33]]\n",
            "\n",
            "\n",
            "Number of Rows :  3\n",
            "Number of Columns :  4\n"
          ],
          "name": "stdout"
        }
      ]
    },
    {
      "cell_type": "markdown",
      "metadata": {
        "id": "JLbG0T7_N_vi"
      },
      "source": [
        "**Question 4**"
      ]
    },
    {
      "cell_type": "code",
      "metadata": {
        "id": "hO4Q4eYoN8Jl",
        "outputId": "3af29220-4d68-4293-bc99-510a7c74cd4f",
        "colab": {
          "base_uri": "https://localhost:8080/"
        }
      },
      "source": [
        "arr = np.array([10, 11, 12, 13, 14, 15, 16, 17, 18, 19])\n",
        "print('1D Numpy array:')\n",
        "print(arr)\n",
        "print(\"\\n\")\n",
        "\n",
        "arr = np.array([0, 1, 2, 3, 4, 5, 6, 7, 8, 9])\n",
        "\n",
        "# Convert 1D array to a 2D numpy array of 2 rows and 3 columns\n",
        "arr_2d = np.reshape(arr, (2, 5))\n",
        "print(\"2D Array \")\n",
        "print(arr_2d)"
      ],
      "execution_count": 6,
      "outputs": [
        {
          "output_type": "stream",
          "text": [
            "1D Numpy array:\n",
            "[10 11 12 13 14 15 16 17 18 19]\n",
            "\n",
            "\n",
            "2D Array \n",
            "[[0 1 2 3 4]\n",
            " [5 6 7 8 9]]\n"
          ],
          "name": "stdout"
        }
      ]
    },
    {
      "cell_type": "markdown",
      "metadata": {
        "id": "dqqsaA69OYxT"
      },
      "source": [
        "**Question 5**"
      ]
    },
    {
      "cell_type": "code",
      "metadata": {
        "id": "_65jKRr1OQHI",
        "outputId": "b749309e-6d78-4a3c-b883-3246e239c850",
        "colab": {
          "base_uri": "https://localhost:8080/"
        }
      },
      "source": [
        "a = np.array([[10, 20], \n",
        "              [30, 40]]) \n",
        "  \n",
        "b = np.array([[50, 60], \n",
        "              [70, 80]]) \n",
        "  \n",
        "# vertical stacking \n",
        "print(\"Vertical stacking:\\n\", np.vstack((a, b))) \n",
        "  \n",
        "# horizontal stacking \n",
        "print(\"\\nHorizontal stacking:\\n\", np.hstack((a, b)))"
      ],
      "execution_count": 7,
      "outputs": [
        {
          "output_type": "stream",
          "text": [
            "Vertical stacking:\n",
            " [[10 20]\n",
            " [30 40]\n",
            " [50 60]\n",
            " [70 80]]\n",
            "\n",
            "Horizontal stacking:\n",
            " [[10 20 50 60]\n",
            " [30 40 70 80]]\n"
          ],
          "name": "stdout"
        }
      ]
    },
    {
      "cell_type": "markdown",
      "metadata": {
        "id": "W4F6ps77OsFe"
      },
      "source": [
        "**Question 6**"
      ]
    },
    {
      "cell_type": "code",
      "metadata": {
        "id": "FO-iyIFzOoP3",
        "outputId": "dce36f53-b816-4d3d-db5a-8fd2a557ea70",
        "colab": {
          "base_uri": "https://localhost:8080/"
        }
      },
      "source": [
        "def unique(list1): \n",
        "    x = np.array(list1) \n",
        "    print(np.unique(x)) \n",
        "      \n",
        "# driver code \n",
        "list1 = [11, 20, 11, 30, 42, 41] \n",
        "print(\"The unique values from 1st list is\") \n",
        "unique(list1) \n",
        "  \n",
        "# converting our list to set \n",
        "new_set = set(list1) \n",
        "print(\"No of unique items in the list are:\", len(new_set))"
      ],
      "execution_count": 8,
      "outputs": [
        {
          "output_type": "stream",
          "text": [
            "The unique values from 1st list is\n",
            "[11 20 30 41 42]\n",
            "No of unique items in the list are: 5\n"
          ],
          "name": "stdout"
        }
      ]
    },
    {
      "cell_type": "code",
      "metadata": {
        "id": "AYgmoK84O21x"
      },
      "source": [
        ""
      ],
      "execution_count": null,
      "outputs": []
    }
  ]
}